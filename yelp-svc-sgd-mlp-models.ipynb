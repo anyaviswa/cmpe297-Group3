{
 "cells": [
  {
   "cell_type": "markdown",
   "metadata": {
    "executionInfo": {
     "elapsed": 442,
     "status": "ok",
     "timestamp": 1606794155662,
     "user": {
      "displayName": "Saranya Visvanathan",
      "photoUrl": "https://lh3.googleusercontent.com/a-/AOh14GgBPGe17tVfTx1iyXsVLaXxLVs71bmgbCiGBOq8=s64",
      "userId": "08087212822077367980"
     },
     "user_tz": 480
    },
    "id": "tcf7l4eMPQIY"
   },
   "source": [
    "# Model Training\n",
    "This notebook trains the below mentioned models.\n",
    "\n",
    "1. Linear model(stochastic gradient descent (SGD) Classifier)\n",
    "2. Linear model(LinearSVC classifier)\n",
    "3. Neural Network model(Multi-layer Perceptron classifier)\n",
    "\n",
    "All the cells of this notebook, can be executed in a single run. The dimensionality reduction block is not needed \n",
    "if the data files (xtraindr.pkl, xvaldr.pkl, xtestdr.pkl) are loaded from its corresponding pickle files in \n",
    "\"Loading pickle files\" section.\n"
   ]
  },
  {
   "cell_type": "code",
   "execution_count": null,
   "metadata": {},
   "outputs": [],
   "source": [
    "from pprint import pprint\n",
    "import pandas as pd\n",
    "import numpy as np\n",
    "import pickle\n",
    "import matplotlib.pyplot as plt\n",
    "%matplotlib inline"
   ]
  },
  {
   "cell_type": "markdown",
   "metadata": {
    "id": "WkfwevgO404Q"
   },
   "source": [
    "# Loading Pickle files\n",
    "\n",
    "The following data are stored as pickled files for future use. \n",
    "1. cleaned training data\n",
    "2. cleaned test data\n",
    "3. training labels (yactual)\n",
    "4. test labels (ytest)\n",
    "5. tfidf vectors of all data (train_tfidf, test_tfidf, val_tfidf)\n",
    "\n",
    "Storing pickle files helps to easily load the data for later use without executing all the code snippets again."
   ]
  },
  {
   "cell_type": "code",
   "execution_count": 2,
   "metadata": {
    "colab": {
     "base_uri": "https://localhost:8080/"
    },
    "executionInfo": {
     "elapsed": 3585,
     "status": "ok",
     "timestamp": 1606794773636,
     "user": {
      "displayName": "Saranya Visvanathan",
      "photoUrl": "https://lh3.googleusercontent.com/a-/AOh14GgBPGe17tVfTx1iyXsVLaXxLVs71bmgbCiGBOq8=s64",
      "userId": "08087212822077367980"
     },
     "user_tz": 480
    },
    "id": "Pt0YU3o6Qiyy",
    "outputId": "1c6a8818-6e03-43ff-e628-245287564c53"
   },
   "outputs": [
    {
     "data": {
      "text/plain": [
       "['dismal lukewarm glop waiter manager see us barely nibble entree plate shove forward pickup thank us perfunctorily patronage hill country jail serve grub bad protection never never never back yard house real food',\n",
       " 'love really atmosphere cozy festive shrimp house fry fry sometimes good sometimes great spicy dipping sauce come die beer list amazing cocktail great price cheap dive go every week rather treat try will not disappoint',\n",
       " 'actually horrify place still business year old son need haircut past summer lure cut sign get door wait minute stylist work people place total garbage tacky sofa time sofa giant son notice ant crawl floor furniture disgusting walk actually turn around walk upon enter do not old black male stylist finish haircut turn tell want clipper around back side hand cut top standard boy cut really freak simple right wrong rather use clipper go actually cut hair go use move downward do not cut hair rub man allege cosmetology license know use set clipper realize almost immediately idea idea minute watch guy stumble say know that s fine pay leave want get scummy joint take son real haircut place bottom line go run way',\n",
       " 'someone work many museum eager visit gallery recent trip las see would show infamous egg house museum fine art know go tuck away near garden gallery pretty much hide view real estate agent would call cozy charming basically euphemism small say still see wonderful art gallery size two ask let tell relatively inexpensive las attraction completely top space amount art fit bit much friendly seriously do not bring security train properly show curate design team collaborate exhibition definite flow mean visitor view art certain sequence whether historical period cultural significance audio guide usually develop arrive gallery could tell start security certainly helpful tell look around whatever fine institution find lack knowledge respect art appalling',\n",
       " 'definitely favorite fast food sub shop ingredient everything everything see taste tell they be use fresh ingredient brisket sandwich probably favorite one wife always get unlike often bounce around menu try different thing definitely step subway jimmy opinion review grade place relative perceive peer five star compare',\n",
       " 'oh happy day finally cane near yes other gripe drive pack like cane area like go sit enjoy chicken cashier pleasant far food wise yet receive funky chicken clean crew zip around dining area constantly usually well keep gripe one red hair make round clean smile personality night ago toss napkin put table help go meal do reach tray excuse do realize he s try job quickly little table manner go along way say still like grub glad there s finally cane close',\n",
       " 'really good place simple amazing food great hospitality impress lunch portion although service take little extra time complaint since quite new business green curry chicken good right spice balance ask definitely recommend place other',\n",
       " 'awesome office staff professional friendly see pac assistant friendly professional helpful highly recommend centennial dermatology definitely return visit',\n",
       " 'delicious authentic i have us would not leave place unhappy set cozy perfect spot special date they will make feel like you be',\n",
       " 'twice nice lay back try weekend southern menu delicious collard chicken sandwich scone clot cream divine iced tea refresh swear drink whole container visit second time soup salad sandwich salad amazing raspberry strawberry forget vinaigrette sandwich good kind disappointed soup potato taste milky change menu often tea inspire one can not wait go back try owner nice hope continue well']"
      ]
     },
     "execution_count": 2,
     "metadata": {},
     "output_type": "execute_result"
    }
   ],
   "source": [
    "#Reading pickled train data\n",
    "with open ('/data/cmpe297-F2020-guzun/yelp/pickle-files/yelptraindata1.pkl', 'rb') as fp:\n",
    "    train_data = pickle.load(fp)\n",
    "\n",
    "train_data[:10]"
   ]
  },
  {
   "cell_type": "code",
   "execution_count": 3,
   "metadata": {
    "colab": {
     "base_uri": "https://localhost:8080/"
    },
    "executionInfo": {
     "elapsed": 1846,
     "status": "ok",
     "timestamp": 1606794774772,
     "user": {
      "displayName": "Saranya Visvanathan",
      "photoUrl": "https://lh3.googleusercontent.com/a-/AOh14GgBPGe17tVfTx1iyXsVLaXxLVs71bmgbCiGBOq8=s64",
      "userId": "08087212822077367980"
     },
     "user_tz": 480
    },
    "id": "uXGn4nXWFcYH",
    "outputId": "c6f24119-ae97-45bb-8dde-e2bfb9f6e269"
   },
   "outputs": [
    {
     "data": {
      "text/plain": [
       "['go bunch friend amazing time diva fun show professional cast dancer together th queen true character blow us away frank us laugh entire show well would advise anyone everyone come show',\n",
       " 'place amazing fry chicken good day get rice come piece chicken purple rice delicious can not describe super crispy also super juicy drizzle chicken sauce like mayonnaise blow mind excited eat forget take picture fear ill back sure',\n",
       " ' year old washing machine repair actually good experience call late yesterday come today time say would think serviceman positive anyway super courteous waste time find problem show debris line water backing definitely recommend affordable appliance use hopefully will not need near future also service fee go toward repair lot less company call',\n",
       " 'broil haddock good stuff mushroom outstanding good brandy old fashioned obviously popular destination make reservation content mill around bar bit nice atmosphere work casual night right water go back',\n",
       " 'love bar bartender always extremely nice food delicious love pizza garlic fry buffalo chicken sandwich amazing pool table jukebox never crowd perfect',\n",
       " 'great food great delivery gentleman deliver food great customer service first time eat definitely back',\n",
       " 'ate avenue b visit back chef really put forth creative tasty cuisine source seasonal ingredient local farm menu change daily take order share many different dish delicious goat cheese chive whip potato crispy shallot tomato jam heirloom tomato asparagus salad roast garlic vinaigrette black grouper black eyed pea green candy bacon sweet potato hay berry crispy eggplant better savor gem restaurant could easily rival favorite san look forward eat i be back holiday',\n",
       " 'old place serve typical dish see everywhere else you be tired usual spot go unique innovative dish lot eat forgive long review service greet smile promptly seat accommodate group promise reservation night go pretty busy would recommend reservation ahead time server explain popular dish like present front panel judge food network knowledgeable friendly attentive food food say first think great restaurant south point mean see pepper pepper may good thing planet right perfect appetizer menu much humble pepper nice flavorful grill sauce mouth could eat hundred authentic beer liquor selection ever see black stout especially compliment meal eggplant fry nice crunchy outside moist flavorful inside truly great texture experience palette yellowtail fresh catch moment walk restaurant nice sizeable slice yellowtail pleasant sauce oyster half shell can not remember one pick recommend one server swear guy ocean back fresh subtly sweet great sauce compliment double salmon love salmon roll perfection combine fresh salmon crunchy salmon skin salmon egg cut nicely richness second bull ride truly treat sense harmonize ingredient much like surf turf roll beef tender like velvet dessert complaint do not give box suppose lure get back booth work next time ill try make noodle',\n",
       " 'mover good job know move stressful time guy make seem easy really professional careful time competitive many thank job well do highly recommend business without reservation',\n",
       " 'love place secret get to mood i have come since open do not go everyday crave noodle soup way home one stop service friendly could like anime toon smile order wall be not enough impress there s always food regular fry rice i be always open new menu last week try deep fry batter ball forget name girl push nice way snag calender do not really catch eye model beautiful that s sure background simple do not match look much homemade rush oh well maybe next year food']"
      ]
     },
     "execution_count": 3,
     "metadata": {},
     "output_type": "execute_result"
    }
   ],
   "source": [
    "#Reading pickled test data\n",
    "with open ('/data/cmpe297-F2020-guzun/yelp/pickle-files/yelptestdata1.pkl', 'rb') as fp:\n",
    "    xtest = pickle.load(fp)\n",
    "\n",
    "xtest[:10]"
   ]
  },
  {
   "cell_type": "code",
   "execution_count": 4,
   "metadata": {
    "colab": {
     "base_uri": "https://localhost:8080/"
    },
    "executionInfo": {
     "elapsed": 354,
     "status": "ok",
     "timestamp": 1606794744057,
     "user": {
      "displayName": "Saranya Visvanathan",
      "photoUrl": "https://lh3.googleusercontent.com/a-/AOh14GgBPGe17tVfTx1iyXsVLaXxLVs71bmgbCiGBOq8=s64",
      "userId": "08087212822077367980"
     },
     "user_tz": 480
    },
    "id": "9dDBbIBkapx4",
    "outputId": "7d76d371-022a-48e0-98d8-a2294c7eea14"
   },
   "outputs": [
    {
     "name": "stdout",
     "output_type": "stream",
     "text": [
      "The length of training labels is 599995\n",
      "The length of test labels is 149995\n"
     ]
    }
   ],
   "source": [
    "#loading stored training and test labels\n",
    "yactual = pickle.load(open(\"/data/cmpe297-F2020-guzun/yelp/pickle-files/yelptrainlabels.pkl\", \"rb\"))\n",
    "print(f\"The length of training labels is {len(yactual)}\")\n",
    "ytest = pickle.load(open(\"/data/cmpe297-F2020-guzun/yelp/pickle-files/yelptestlabels.pkl\", \"rb\"))\n",
    "print(f\"The length of test labels is {len(ytest)}\")"
   ]
  },
  {
   "cell_type": "code",
   "execution_count": 5,
   "metadata": {
    "executionInfo": {
     "elapsed": 1361,
     "status": "ok",
     "timestamp": 1606795049721,
     "user": {
      "displayName": "Saranya Visvanathan",
      "photoUrl": "https://lh3.googleusercontent.com/a-/AOh14GgBPGe17tVfTx1iyXsVLaXxLVs71bmgbCiGBOq8=s64",
      "userId": "08087212822077367980"
     },
     "user_tz": 480
    },
    "id": "2U6SgoBAcQ4_"
   },
   "outputs": [],
   "source": [
    "#loading data tfidf vectors\n",
    "xtrain_tfidf = pickle.load(open(\"/data/cmpe297-F2020-guzun/yelp/pickle-files/train_tfidf.pkl\", \"rb\"))\n",
    "xval_tfidf = pickle.load(open(\"/data/cmpe297-F2020-guzun/yelp/pickle-files/val_tfidf.pkl\", \"rb\"))\n",
    "xtest_tfidf = pickle.load(open(\"/data/cmpe297-F2020-guzun/yelp/pickle-files/test_tfidf.pkl\", \"rb\"))"
   ]
  },
  {
   "cell_type": "code",
   "execution_count": 6,
   "metadata": {
    "colab": {
     "base_uri": "https://localhost:8080/"
    },
    "executionInfo": {
     "elapsed": 1119,
     "status": "ok",
     "timestamp": 1606798440435,
     "user": {
      "displayName": "Saranya Visvanathan",
      "photoUrl": "https://lh3.googleusercontent.com/a-/AOh14GgBPGe17tVfTx1iyXsVLaXxLVs71bmgbCiGBOq8=s64",
      "userId": "08087212822077367980"
     },
     "user_tz": 480
    },
    "id": "5_KOPlyapU8I",
    "outputId": "1d0bcd14-e254-4a35-db2a-b5a0606168d8"
   },
   "outputs": [
    {
     "name": "stdout",
     "output_type": "stream",
     "text": [
      "xtraindr shape: (479996, 100)\n",
      "xvaldr shape: (119999, 100)\n",
      "xtestdr shape: (149995, 100)\n"
     ]
    }
   ],
   "source": [
    "xtraindr = pickle.load(open(\"/data/cmpe297-F2020-guzun/yelp/pickle-files/xtraindr.pkl\", \"rb\"))\n",
    "print(f\"xtraindr shape: {xtraindr.shape}\")\n",
    "xvaldr = pickle.load(open(\"/data/cmpe297-F2020-guzun/yelp/pickle-files/xvaldr.pkl\", \"rb\"))\n",
    "print(f\"xvaldr shape: {xvaldr.shape}\")\n",
    "xtestdr = pickle.load(open(\"/data/cmpe297-F2020-guzun/yelp/pickle-files/xtestdr.pkl\", \"rb\"))\n",
    "print(f\"xtestdr shape: {xtestdr.shape}\")"
   ]
  },
  {
   "cell_type": "code",
   "execution_count": 7,
   "metadata": {
    "colab": {
     "base_uri": "https://localhost:8080/"
    },
    "executionInfo": {
     "elapsed": 431,
     "status": "ok",
     "timestamp": 1606798488110,
     "user": {
      "displayName": "Saranya Visvanathan",
      "photoUrl": "https://lh3.googleusercontent.com/a-/AOh14GgBPGe17tVfTx1iyXsVLaXxLVs71bmgbCiGBOq8=s64",
      "userId": "08087212822077367980"
     },
     "user_tz": 480
    },
    "id": "QrMot7fLpuGp",
    "outputId": "c576a2d0-d690-4b63-cd64-5e79459c1490"
   },
   "outputs": [
    {
     "name": "stdout",
     "output_type": "stream",
     "text": [
      "xtraindr shape: (479996, 100)\n",
      "xvaldr shape: (119999, 100)\n",
      "xtestdr shape: (149995, 100)\n"
     ]
    }
   ],
   "source": [
    "print(f\"xtraindr shape: {xtraindr.shape}\")\n",
    "print(f\"xvaldr shape: {xvaldr.shape}\")\n",
    "print(f\"xtestdr shape: {xtestdr.shape}\")"
   ]
  },
  {
   "cell_type": "markdown",
   "metadata": {
    "id": "nAMn4vABWtk9"
   },
   "source": [
    "# Train test split"
   ]
  },
  {
   "cell_type": "code",
   "execution_count": 8,
   "metadata": {
    "executionInfo": {
     "elapsed": 691,
     "status": "ok",
     "timestamp": 1606794777715,
     "user": {
      "displayName": "Saranya Visvanathan",
      "photoUrl": "https://lh3.googleusercontent.com/a-/AOh14GgBPGe17tVfTx1iyXsVLaXxLVs71bmgbCiGBOq8=s64",
      "userId": "08087212822077367980"
     },
     "user_tz": 480
    },
    "id": "wyHdGaFOWw9a"
   },
   "outputs": [],
   "source": [
    "#splitting into training and validation data\n",
    "from sklearn.model_selection import train_test_split\n",
    "\n",
    "xtrain, xval, ytrain, yval = train_test_split(train_data, yactual, test_size=0.2, random_state=42)\n",
    "#TODO: not sure of using shape, need to verify that\n",
    "# print(xtrain.shape)\n",
    "# print(xval.shape)\n",
    "# print(ytrain.shape)\n",
    "# print(yval.shape)"
   ]
  },
  {
   "cell_type": "code",
   "execution_count": 9,
   "metadata": {
    "colab": {
     "base_uri": "https://localhost:8080/"
    },
    "executionInfo": {
     "elapsed": 19175,
     "status": "ok",
     "timestamp": 1606791216562,
     "user": {
      "displayName": "Saranya Visvanathan",
      "photoUrl": "https://lh3.googleusercontent.com/a-/AOh14GgBPGe17tVfTx1iyXsVLaXxLVs71bmgbCiGBOq8=s64",
      "userId": "08087212822077367980"
     },
     "user_tz": 480
    },
    "id": "G0reReYwGMYI",
    "outputId": "c215a61d-10dd-45c0-ef59-9ee733689d09"
   },
   "outputs": [
    {
     "name": "stdout",
     "output_type": "stream",
     "text": [
      "The length of the training data is 479996\n",
      "The length of the validation data is 119999\n"
     ]
    }
   ],
   "source": [
    "print(f\"The length of the training data is {len(xtrain)}\")\n",
    "print(f\"The length of the validation data is {len(xval)}\")"
   ]
  },
  {
   "cell_type": "code",
   "execution_count": 10,
   "metadata": {
    "colab": {
     "base_uri": "https://localhost:8080/"
    },
    "executionInfo": {
     "elapsed": 790,
     "status": "ok",
     "timestamp": 1606791472104,
     "user": {
      "displayName": "Saranya Visvanathan",
      "photoUrl": "https://lh3.googleusercontent.com/a-/AOh14GgBPGe17tVfTx1iyXsVLaXxLVs71bmgbCiGBOq8=s64",
      "userId": "08087212822077367980"
     },
     "user_tz": 480
    },
    "id": "_AEcNiKzOxlK",
    "outputId": "b3e03196-e54e-4926-aa1d-f6d69c38c57b"
   },
   "outputs": [
    {
     "name": "stdout",
     "output_type": "stream",
     "text": [
      "training vectors shape: (479996, 32891)\n",
      "validation vectors shape: (119999, 32891)\n",
      "testing vectors shape: (149995, 32891)\n"
     ]
    }
   ],
   "source": [
    "#shape of tfidf vectors\n",
    "print(f\"training vectors shape: {xtrain_tfidf.shape}\")\n",
    "print(f\"validation vectors shape: {xval_tfidf.shape}\")\n",
    "print(f\"testing vectors shape: {xtest_tfidf.shape}\")"
   ]
  },
  {
   "cell_type": "markdown",
   "metadata": {
    "id": "eeZ1hOr6Mygc"
   },
   "source": [
    "# Model performance analysis"
   ]
  },
  {
   "cell_type": "code",
   "execution_count": 11,
   "metadata": {
    "executionInfo": {
     "elapsed": 498,
     "status": "ok",
     "timestamp": 1606795237375,
     "user": {
      "displayName": "Saranya Visvanathan",
      "photoUrl": "https://lh3.googleusercontent.com/a-/AOh14GgBPGe17tVfTx1iyXsVLaXxLVs71bmgbCiGBOq8=s64",
      "userId": "08087212822077367980"
     },
     "user_tz": 480
    },
    "id": "4VVW4kC6NBBO"
   },
   "outputs": [],
   "source": [
    "# Squared error\n",
    "# Regression error metrics\n",
    "from sklearn.metrics import mean_squared_error,mean_absolute_error,r2_score\n",
    "\n",
    "def evaluate_model(ytrain, ypred):\n",
    "    mse = mean_squared_error(ytrain, ypred)\n",
    "    print(f\"Mean squared error: {mse}\")\n",
    "    rmse = np.sqrt(mse)\n",
    "    print(f\"root mean squared error: {rmse}\")\n",
    "    mae = mean_absolute_error(ytrain, ypred)\n",
    "    print(f\"Mean absolute error: {mae}\")\n",
    "    r2 = r2_score(ytrain, ypred)\n",
    "    print(f\"r2 score: {r2}\")\n",
    "    rmse= np.sqrt(mse)\n",
    "    print(f\"rmse score:{rmse}\")\n",
    "\n",
    "    return rmse,mse, mae, r2"
   ]
  },
  {
   "cell_type": "markdown",
   "metadata": {
    "id": "020BCeBQMqLg"
   },
   "source": [
    "# Buliding Regression models"
   ]
  },
  {
   "cell_type": "code",
   "execution_count": 12,
   "metadata": {
    "executionInfo": {
     "elapsed": 438,
     "status": "ok",
     "timestamp": 1606795241902,
     "user": {
      "displayName": "Saranya Visvanathan",
      "photoUrl": "https://lh3.googleusercontent.com/a-/AOh14GgBPGe17tVfTx1iyXsVLaXxLVs71bmgbCiGBOq8=s64",
      "userId": "08087212822077367980"
     },
     "user_tz": 480
    },
    "id": "uUApQe8QV_xO"
   },
   "outputs": [],
   "source": [
    "from sklearn.pipeline import Pipeline\n",
    "\n",
    "#preprocessing\n",
    "from sklearn.preprocessing import StandardScaler\n",
    "from sklearn.preprocessing import MinMaxScaler\n",
    "#from sklearn.preprocessing import PowerTransformer\n",
    "from sklearn.preprocessing import MaxAbsScaler\n",
    "\n",
    "#dimensionality reduction\n",
    "from sklearn.decomposition import SparsePCA,PCA,TruncatedSVD\n",
    "\n",
    "#Regression algorithms\n",
    "from sklearn.linear_model import SGDClassifier\n",
    "from sklearn import svm\n",
    "from sklearn.svm import SVR\n",
    "from sklearn.neighbors import (KNeighborsClassifier,KNeighborsRegressor)\n",
    "from sklearn.neighbors import NearestNeighbors\n",
    "from sklearn.neural_network import MLPClassifier\n",
    "from sklearn.svm import SVR,SVC,LinearSVC"
   ]
  },
  {
   "cell_type": "markdown",
   "metadata": {
    "id": "ijYVDfT2RTVP"
   },
   "source": [
    "# Classifier Definition"
   ]
  },
  {
   "cell_type": "code",
   "execution_count": 13,
   "metadata": {
    "id": "MLOsnB7yVjDg"
   },
   "outputs": [],
   "source": [
    "def get_classifier(classifier=\"LogR\", arguments = None):\n",
    "  classifier_dict = {\n",
    "      \"SGD\" : SGDClassifier(max_iter=1000, tol=1e-3,random_state=42),\n",
    "      \"NN\"  : KNeighborsRegressor(n_neighbors=5, radius=100.0,  leaf_size=30, metric='minkowski', p=2,  n_jobs=10),\n",
    "      \"MLP\" : MLPClassifier(random_state=42, max_iter=200),\n",
    "      \"SVC\" : LinearSVC(penalty='l1', loss='squared_hinge', dual=False,\n",
    "                       tol=1e-3),\n",
    "      \"NN2\" : KNeighborsClassifier(metric='wminkowski', p=2,n_neighbors=3)\n",
    "  }\n",
    "  return classifier_dict[classifier]"
   ]
  },
  {
   "cell_type": "markdown",
   "metadata": {},
   "source": [
    "### SGD Classifier"
   ]
  },
  {
   "cell_type": "code",
   "execution_count": 14,
   "metadata": {
    "colab": {
     "base_uri": "https://localhost:8080/"
    },
    "executionInfo": {
     "elapsed": 132565,
     "status": "ok",
     "timestamp": 1605773460395,
     "user": {
      "displayName": "Saranya Visvanathan",
      "photoUrl": "https://lh3.googleusercontent.com/a-/AOh14GgBPGe17tVfTx1iyXsVLaXxLVs71bmgbCiGBOq8=s64",
      "userId": "08087212822077367980"
     },
     "user_tz": 480
    },
    "id": "jNvgQLdNV2ks",
    "outputId": "83da21e7-5696-486c-8dd3-2c04d0eeee79"
   },
   "outputs": [
    {
     "name": "stdout",
     "output_type": "stream",
     "text": [
      "The predictions are [5 1 1 ... 1 1 3]\n",
      "Model performance analysis with validation data\n",
      "Mean squared error: 1.0703422528521072\n",
      "root mean squared error: 1.0345734642122362\n",
      "Mean absolute error: 0.628521904349203\n",
      "r2 score: 0.4674582920437079\n",
      "rmse score:1.0345734642122362\n"
     ]
    },
    {
     "data": {
      "text/plain": [
       "(1.0345734642122362, 1.0703422528521072, 0.628521904349203, 0.4674582920437079)"
      ]
     },
     "execution_count": 14,
     "metadata": {},
     "output_type": "execute_result"
    }
   ],
   "source": [
    "#SGD\n",
    "SGDclf = Pipeline(steps=[('classify', get_classifier(\"SGD\"))])\n",
    "SGDclf.fit(xtrain_tfidf, ytrain) \n",
    "ypred = SGDclf.predict(xval_tfidf)\n",
    "print(f\"The predictions are {ypred}\")\n",
    "print(\"Model performance analysis with validation data\")\n",
    "evaluate_model(yval, ypred)"
   ]
  },
  {
   "cell_type": "code",
   "execution_count": 15,
   "metadata": {
    "colab": {
     "base_uri": "https://localhost:8080/"
    },
    "executionInfo": {
     "elapsed": 734,
     "status": "ok",
     "timestamp": 1605770406674,
     "user": {
      "displayName": "Saranya Visvanathan",
      "photoUrl": "https://lh3.googleusercontent.com/a-/AOh14GgBPGe17tVfTx1iyXsVLaXxLVs71bmgbCiGBOq8=s64",
      "userId": "08087212822077367980"
     },
     "user_tz": 480
    },
    "id": "sBkrbDqvX9D_",
    "outputId": "b365fecc-cd8d-41f7-b001-b32c19f6c051"
   },
   "outputs": [
    {
     "name": "stdout",
     "output_type": "stream",
     "text": [
      "The predictions are [5 5 5 ... 2 1 2]\n",
      "Model performance analysis with test data\n",
      "Mean squared error: 1.0821094036467882\n",
      "root mean squared error: 1.040244876770267\n",
      "Mean absolute error: 0.6322410747024901\n",
      "r2 score: 0.4589452981766059\n",
      "rmse score:1.040244876770267\n"
     ]
    },
    {
     "data": {
      "text/plain": [
       "(1.040244876770267, 1.0821094036467882, 0.6322410747024901, 0.4589452981766059)"
      ]
     },
     "execution_count": 15,
     "metadata": {},
     "output_type": "execute_result"
    }
   ],
   "source": [
    "ytestpred = SGDclf.predict(xtest_tfidf)\n",
    "print(f\"The predictions are {ytestpred}\")\n",
    "print(\"Model performance analysis with test data\")\n",
    "evaluate_model(ytest, ytestpred)\n"
   ]
  },
  {
   "cell_type": "code",
   "execution_count": 16,
   "metadata": {},
   "outputs": [
    {
     "data": {
      "text/plain": [
       "Text(0.5,1,'Actual Vs predicted ratings using SGDClassifier')"
      ]
     },
     "execution_count": 16,
     "metadata": {},
     "output_type": "execute_result"
    },
    {
     "data": {
      "image/png": "[encoded data removed]",
      "text/plain": [
       "<Figure size 432x288 with 1 Axes>"
      ]
     },
     "metadata": {
      "needs_background": "light"
     },
     "output_type": "display_data"
    }
   ],
   "source": [
    "lim = 119990\n",
    "plt.plot(ytestpred[lim:lim+20], label = 'Predicted')\n",
    "plt.plot(ytest[lim:lim+20], label = 'Actual')\n",
    "plt.legend(loc = 'upper left')\n",
    "plt.xlabel(\"Reviews\")\n",
    "plt.ylabel(\"Ratings\")\n",
    "plt.xticks(np.arange(1,20))\n",
    "plt.title(\"Actual Vs predicted ratings using SGDClassifier\")"
   ]
  },
  {
   "cell_type": "markdown",
   "metadata": {
    "id": "RwDZegu2rLg4"
   },
   "source": [
    "### LinearSVC"
   ]
  },
  {
   "cell_type": "code",
   "execution_count": 22,
   "metadata": {
    "colab": {
     "base_uri": "https://localhost:8080/"
    },
    "executionInfo": {
     "elapsed": 32201,
     "status": "ok",
     "timestamp": 1605768830177,
     "user": {
      "displayName": "Saranya Visvanathan",
      "photoUrl": "https://lh3.googleusercontent.com/a-/AOh14GgBPGe17tVfTx1iyXsVLaXxLVs71bmgbCiGBOq8=s64",
      "userId": "08087212822077367980"
     },
     "user_tz": 480
    },
    "id": "rke9mlTNMxQ_",
    "outputId": "67980a97-817b-4ab7-cba3-13846a40baf2"
   },
   "outputs": [
    {
     "name": "stdout",
     "output_type": "stream",
     "text": [
      "The predictions are [4 1 5 ... 1 1 3]\n",
      "Model performance analysis with validation data\n",
      "Mean squared error: 0.8243402028350236\n",
      "root mean squared error: 0.9079318271957557\n",
      "Mean absolute error: 0.5314210951757932\n",
      "r2 score: 0.5898549848097445\n",
      "rmse score:0.9079318271957557\n"
     ]
    },
    {
     "data": {
      "text/plain": [
       "(0.9079318271957557,\n",
       " 0.8243402028350236,\n",
       " 0.5314210951757932,\n",
       " 0.5898549848097445)"
      ]
     },
     "execution_count": 22,
     "metadata": {},
     "output_type": "execute_result"
    }
   ],
   "source": [
    "linearSVclf = Pipeline(steps=[('classify', get_classifier(\"SVC\"))])\n",
    "linearSVclf.fit(xtrain_tfidf, ytrain) \n",
    "ypred = linearSVclf.predict(xval_tfidf)\n",
    "print(f\"The predictions are {ypred}\")\n",
    "print(\"Model performance analysis with validation data\")\n",
    "evaluate_model(yval, ypred) "
   ]
  },
  {
   "cell_type": "code",
   "execution_count": 23,
   "metadata": {
    "id": "kfta-0bNY3Re"
   },
   "outputs": [
    {
     "name": "stdout",
     "output_type": "stream",
     "text": [
      "The predictions are [5 5 5 ... 2 1 2]\n",
      "Model performance analysis with test data\n",
      "Mean squared error: 0.8316210540351345\n",
      "root mean squared error: 0.9119325929229279\n",
      "Mean absolute error: 0.5359578652621754\n",
      "r2 score: 0.5841894729824327\n",
      "rmse score:0.9119325929229279\n"
     ]
    },
    {
     "data": {
      "text/plain": [
       "(0.9119325929229279,\n",
       " 0.8316210540351345,\n",
       " 0.5359578652621754,\n",
       " 0.5841894729824327)"
      ]
     },
     "execution_count": 23,
     "metadata": {},
     "output_type": "execute_result"
    }
   ],
   "source": [
    "#xtestvec = applytfidfVectorizer(xtest) #vectorizing the test dataset\n",
    "ytestpred = linearSVclf.predict(xtest_tfidf)\n",
    "print(f\"The predictions are {ytestpred}\")\n",
    "print(\"Model performance analysis with test data\")\n",
    "evaluate_model(ytest, ytestpred)"
   ]
  },
  {
   "cell_type": "code",
   "execution_count": 24,
   "metadata": {
    "id": "UQeF8_eITqsY"
   },
   "outputs": [
    {
     "data": {
      "text/plain": [
       "Text(0.5,1,'Actual Vs predicted ratings using LinearSVC')"
      ]
     },
     "execution_count": 24,
     "metadata": {},
     "output_type": "execute_result"
    },
    {
     "data": {
      "image/png": "[encoded data removed]",
      "text/plain": [
       "<Figure size 432x288 with 1 Axes>"
      ]
     },
     "metadata": {
      "needs_background": "light"
     },
     "output_type": "display_data"
    }
   ],
   "source": [
    "lim = 119990\n",
    "plt.plot(ytestpred[lim:lim+20], label = 'Predicted')\n",
    "plt.plot(ytest[lim:lim+20], label = 'Actual')\n",
    "plt.legend(loc = 'upper left')\n",
    "plt.xlabel(\"Reviews\")\n",
    "plt.ylabel(\"Ratings\")\n",
    "plt.xticks(np.arange(1,20))\n",
    "plt.title(\"Actual Vs predicted ratings using LinearSVC\")"
   ]
  },
  {
   "cell_type": "markdown",
   "metadata": {},
   "source": [
    "### MLPClassifier"
   ]
  },
  {
   "cell_type": "code",
   "execution_count": 13,
   "metadata": {
    "id": "kGwM3B1lTq3e"
   },
   "outputs": [
    {
     "name": "stdout",
     "output_type": "stream",
     "text": [
      "The predictions are [3 1 1 ... 1 1 4]\n",
      "Model performance analysis with validation data\n",
      "Mean squared error: 2.043392028266902\n",
      "root mean squared error: 1.4294726399154696\n",
      "Mean absolute error: 0.9650663755531296\n",
      "r2 score: -0.016676187320325386\n",
      "rmse score:1.4294726399154696\n"
     ]
    },
    {
     "data": {
      "text/plain": [
       "(1.4294726399154696,\n",
       " 2.043392028266902,\n",
       " 0.9650663755531296,\n",
       " -0.016676187320325386)"
      ]
     },
     "execution_count": 13,
     "metadata": {},
     "output_type": "execute_result"
    }
   ],
   "source": [
    "mlpclf = Pipeline(steps=[('scaler', StandardScaler(with_mean=False)),('classify', get_classifier(\"MLP\"))])\n",
    "mlpclf.fit(xtraindr, ytrain) \n",
    "ypred = mlpclf.predict(xvaldr)\n",
    "print(f\"The predictions are {ypred}\")\n",
    "print(\"Model performance analysis with validation data\")\n",
    "evaluate_model(yval, ypred)"
   ]
  },
  {
   "cell_type": "code",
   "execution_count": 14,
   "metadata": {},
   "outputs": [
    {
     "name": "stdout",
     "output_type": "stream",
     "text": [
      "The predictions are [4 3 1 ... 5 1 4]\n",
      "Model performance analysis with test data\n",
      "Mean squared error: 2.5404913497116572\n",
      "root mean squared error: 1.5938918877112265\n",
      "Mean absolute error: 1.18084602820094\n",
      "r2 score: -0.2702456748558286\n",
      "rmse score:1.5938918877112265\n"
     ]
    },
    {
     "data": {
      "text/plain": [
       "(1.5938918877112265, 2.5404913497116572, 1.18084602820094, -0.2702456748558286)"
      ]
     },
     "execution_count": 14,
     "metadata": {},
     "output_type": "execute_result"
    }
   ],
   "source": [
    "#xtestvec = applytfidfVectorizer(xtest) #vectorizing the test dataset\n",
    "ytestpred = mlpclf.predict(xtestdr)\n",
    "print(f\"The predictions are {ytestpred}\")\n",
    "print(\"Model performance analysis with test data\")\n",
    "evaluate_model(ytest, ytestpred)"
   ]
  },
  {
   "cell_type": "code",
   "execution_count": 15,
   "metadata": {},
   "outputs": [
    {
     "data": {
      "text/plain": [
       "Text(0.5,1,'Actual Vs predicted ratings using MLPClassifier')"
      ]
     },
     "execution_count": 15,
     "metadata": {},
     "output_type": "execute_result"
    },
    {
     "data": {
      "image/png": "[encoded data removed]",
      "text/plain": [
       "<Figure size 432x288 with 1 Axes>"
      ]
     },
     "metadata": {
      "needs_background": "light"
     },
     "output_type": "display_data"
    }
   ],
   "source": [
    "lim = 119990\n",
    "plt.plot(ytestpred[lim:lim+20], label = 'Predicted')\n",
    "plt.plot(ytest[lim:lim+20], label = 'Actual')\n",
    "plt.legend(loc = 'upper left')\n",
    "plt.xlabel(\"Reviews\")\n",
    "plt.ylabel(\"Ratings\")\n",
    "plt.xticks(np.arange(1,20))\n",
    "plt.title(\"Actual Vs predicted ratings using MLPClassifier\")"
   ]
  }
 ],
 "metadata": {
  "accelerator": "GPU",
  "colab": {
   "collapsed_sections": [
    "nAMn4vABWtk9",
    "c8uFPhrKDoD8",
    "IIJB0VlnNOuw",
    "eeZ1hOr6Mygc",
    "020BCeBQMqLg"
   ],
   "name": "yelp-read-mongodb.ipynb",
   "provenance": [],
   "toc_visible": true
  },
  "kernelspec": {
   "display_name": "Python 3",
   "language": "python",
   "name": "python3"
  },
  "language_info": {
   "codemirror_mode": {
    "name": "ipython",
    "version": 3
   },
   "file_extension": ".py",
   "mimetype": "text/x-python",
   "name": "python",
   "nbconvert_exporter": "python",
   "pygments_lexer": "ipython3",
   "version": "3.8.6"
  }
 },
 "nbformat": 4,
 "nbformat_minor": 4
}
